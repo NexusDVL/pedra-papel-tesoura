{
  "nbformat": 4,
  "nbformat_minor": 0,
  "metadata": {
    "colab": {
      "provenance": [],
      "authorship_tag": "ABX9TyMuUIAPyKzVRrXz+FxFVv9m",
      "include_colab_link": true
    },
    "kernelspec": {
      "name": "python3",
      "display_name": "Python 3"
    },
    "language_info": {
      "name": "python"
    }
  },
  "cells": [
    {
      "cell_type": "markdown",
      "metadata": {
        "id": "view-in-github",
        "colab_type": "text"
      },
      "source": [
        "<a href=\"https://colab.research.google.com/github/NexusDVL/pedra-papel-tesoura/blob/main/C%C3%B3pia_de_Pedra%2C_papel_e_tesoura.ipynb\" target=\"_parent\"><img src=\"https://colab.research.google.com/assets/colab-badge.svg\" alt=\"Open In Colab\"/></a>"
      ]
    },
    {
      "cell_type": "markdown",
      "source": [
        "Implementar o Jogo Pedra, Papel, Tesoura (Utilizar\n",
        "o Google Colab)"
      ],
      "metadata": {
        "id": "JnWvZeoN9CVe"
      }
    },
    {
      "cell_type": "code",
      "execution_count": null,
      "metadata": {
        "id": "ly5SFJ3i7kad"
      },
      "outputs": [],
      "source": [
        "import random\n",
        "\n",
        "def obter_escolha_ia():\n",
        "    escolhas_possiveis = ['pedra', 'papel', 'tesoura']\n",
        "    return random.choice(escolhas_possiveis)\n",
        "\n",
        "def determinar_vencedor(escolha_usuario, escolha_ia):\n",
        "    if escolha_usuario == escolha_ia:\n",
        "        return \"Empate!\"\n",
        "    elif (escolha_usuario == 'pedra' and escolha_ia == 'tesoura') or \\\n",
        "         (escolha_usuario == 'papel' and escolha_ia == 'pedra') or \\\n",
        "         (escolha_usuario == 'tesoura' and escolha_ia == 'papel'):\n",
        "        return \"Você ganhou!\"\n",
        "    else:\n",
        "        return \"Você perdeu!\"\n"
      ]
    },
    {
      "cell_type": "code",
      "source": [
        "print(\"Jogo Pedra, Papel e Tesoura!\")\n",
        "\n",
        "while True:\n",
        "    escolha_usuario = input(\"Escolha pedra, papel ou tesoura (ou 'sair' para terminar o jogo): \").lower()\n",
        "\n",
        "    if escolha_usuario == 'sair':\n",
        "        print(\" Até o próximo game!\")\n",
        "        break\n",
        "    elif escolha_usuario not in ['pedra', 'papel', 'tesoura']:\n",
        "        print(\"Escolha inválida. Escolha pedra, papel ou tesoura.\")\n",
        "    else:\n",
        "        escolha_ia = obter_escolha_ia()\n",
        "        print(f\"\\nVocê escolheu: {escolha_usuario}\")\n",
        "        print(f\"A IA escolheu: {escolha_ia}\")\n",
        "\n",
        "        resultado = determinar_vencedor(escolha_usuario, escolha_ia)\n",
        "        print(resultado)"
      ],
      "metadata": {
        "id": "8t348jSU717j"
      },
      "execution_count": null,
      "outputs": []
    },
    {
      "cell_type": "markdown",
      "source": [
        "Defina com suas próprias palavras:\n",
        "\n",
        "(a) inteligência: Algo que consiga pensar e tomar decisões.\n",
        "\n",
        "(b) inteligência artificial: Algo que foi criado que consiga tomar decisões.\n",
        "\n",
        "(c) agente: Quem ou algo que ira atuar.\n",
        "\n",
        "(d) racionalidade: Interpretar situações e tomar uma decisão etica.\n",
        "\n",
        "(e) raciocínio lógico: Fazer operações diversas sem ajuda.\n"
      ],
      "metadata": {
        "id": "AK0KMoYP8-1c"
      }
    }
  ]
}